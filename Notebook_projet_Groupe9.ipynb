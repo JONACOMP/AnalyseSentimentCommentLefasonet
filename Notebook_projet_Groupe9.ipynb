{
  "cells": [
    {
      "cell_type": "markdown",
      "id": "448708df",
      "metadata": {
        "id": "448708df"
      },
      "source": [
        "### <font color='orange'>Notebook du groupe 9 -- Projet numéro 9 NLP1\n",
        "</font>\n"
      ]
    },
    {
      "cell_type": "markdown",
      "id": "f7f62d61",
      "metadata": {
        "id": "f7f62d61"
      },
      "source": [
        "## Membre du groupe\n",
        "    * COMPAORE D Jonathan\n",
        "    * OUATTARA FAIZA\n",
        "    * SAWADOGO RAHIMA"
      ]
    },
    {
      "cell_type": "markdown",
      "id": "644a83d8",
      "metadata": {
        "id": "644a83d8"
      },
      "source": [
        "### <font color='brown'>Ce script scrape les commentaires d'articles de LeFaso.net et les structure dans un DataFrame\n",
        "</font>"
      ]
    },
    {
      "cell_type": "code",
      "execution_count": null,
      "id": "0a8c86ca",
      "metadata": {
        "colab": {
          "base_uri": "https://localhost:8080/"
        },
        "id": "0a8c86ca",
        "outputId": "bd514468-2efe-477d-b715-c89ebc267255"
      },
      "outputs": [
        {
          "name": "stdout",
          "output_type": "stream",
          "text": [
            "Requirement already satisfied: requests in e:\\master fd&ia\\m1\\nlp\\projet\\virtualenvironment\\lib\\site-packages (2.32.5)\n",
            "Requirement already satisfied: beautifulsoup4 in e:\\master fd&ia\\m1\\nlp\\projet\\virtualenvironment\\lib\\site-packages (4.13.5)\n",
            "Requirement already satisfied: pandas in e:\\master fd&ia\\m1\\nlp\\projet\\virtualenvironment\\lib\\site-packages (2.3.2)\n",
            "Requirement already satisfied: openpyxl in e:\\master fd&ia\\m1\\nlp\\projet\\virtualenvironment\\lib\\site-packages (3.1.5)\n",
            "Requirement already satisfied: tensorflow in e:\\master fd&ia\\m1\\nlp\\projet\\virtualenvironment\\lib\\site-packages (2.20.0)\n",
            "Requirement already satisfied: tf-keras in e:\\master fd&ia\\m1\\nlp\\projet\\virtualenvironment\\lib\\site-packages (2.20.1)\n",
            "Requirement already satisfied: emoji in e:\\master fd&ia\\m1\\nlp\\projet\\virtualenvironment\\lib\\site-packages (2.15.0)\n",
            "Requirement already satisfied: spacy in e:\\master fd&ia\\m1\\nlp\\projet\\virtualenvironment\\lib\\site-packages (3.8.7)\n",
            "Requirement already satisfied: matplotlib in e:\\master fd&ia\\m1\\nlp\\projet\\virtualenvironment\\lib\\site-packages (3.10.6)\n",
            "Requirement already satisfied: wordcloud in e:\\master fd&ia\\m1\\nlp\\projet\\virtualenvironment\\lib\\site-packages (1.9.4)\n",
            "Requirement already satisfied: charset_normalizer<4,>=2 in e:\\master fd&ia\\m1\\nlp\\projet\\virtualenvironment\\lib\\site-packages (from requests) (3.4.3)\n",
            "Requirement already satisfied: idna<4,>=2.5 in e:\\master fd&ia\\m1\\nlp\\projet\\virtualenvironment\\lib\\site-packages (from requests) (3.10)\n",
            "Requirement already satisfied: urllib3<3,>=1.21.1 in e:\\master fd&ia\\m1\\nlp\\projet\\virtualenvironment\\lib\\site-packages (from requests) (2.5.0)\n",
            "Requirement already satisfied: certifi>=2017.4.17 in e:\\master fd&ia\\m1\\nlp\\projet\\virtualenvironment\\lib\\site-packages (from requests) (2025.8.3)\n",
            "Requirement already satisfied: soupsieve>1.2 in e:\\master fd&ia\\m1\\nlp\\projet\\virtualenvironment\\lib\\site-packages (from beautifulsoup4) (2.8)\n",
            "Requirement already satisfied: typing-extensions>=4.0.0 in e:\\master fd&ia\\m1\\nlp\\projet\\virtualenvironment\\lib\\site-packages (from beautifulsoup4) (4.15.0)\n",
            "Requirement already satisfied: numpy>=1.26.0 in e:\\master fd&ia\\m1\\nlp\\projet\\virtualenvironment\\lib\\site-packages (from pandas) (2.3.3)\n",
            "Requirement already satisfied: python-dateutil>=2.8.2 in e:\\master fd&ia\\m1\\nlp\\projet\\virtualenvironment\\lib\\site-packages (from pandas) (2.9.0.post0)\n",
            "Requirement already satisfied: pytz>=2020.1 in e:\\master fd&ia\\m1\\nlp\\projet\\virtualenvironment\\lib\\site-packages (from pandas) (2025.2)\n",
            "Requirement already satisfied: tzdata>=2022.7 in e:\\master fd&ia\\m1\\nlp\\projet\\virtualenvironment\\lib\\site-packages (from pandas) (2025.2)\n",
            "Requirement already satisfied: et-xmlfile in e:\\master fd&ia\\m1\\nlp\\projet\\virtualenvironment\\lib\\site-packages (from openpyxl) (2.0.0)\n",
            "Requirement already satisfied: absl-py>=1.0.0 in e:\\master fd&ia\\m1\\nlp\\projet\\virtualenvironment\\lib\\site-packages (from tensorflow) (2.3.1)\n",
            "Requirement already satisfied: astunparse>=1.6.0 in e:\\master fd&ia\\m1\\nlp\\projet\\virtualenvironment\\lib\\site-packages (from tensorflow) (1.6.3)\n",
            "Requirement already satisfied: flatbuffers>=24.3.25 in e:\\master fd&ia\\m1\\nlp\\projet\\virtualenvironment\\lib\\site-packages (from tensorflow) (25.9.23)\n",
            "Requirement already satisfied: gast!=0.5.0,!=0.5.1,!=0.5.2,>=0.2.1 in e:\\master fd&ia\\m1\\nlp\\projet\\virtualenvironment\\lib\\site-packages (from tensorflow) (0.6.0)\n",
            "Requirement already satisfied: google_pasta>=0.1.1 in e:\\master fd&ia\\m1\\nlp\\projet\\virtualenvironment\\lib\\site-packages (from tensorflow) (0.2.0)\n",
            "Requirement already satisfied: libclang>=13.0.0 in e:\\master fd&ia\\m1\\nlp\\projet\\virtualenvironment\\lib\\site-packages (from tensorflow) (18.1.1)\n",
            "Requirement already satisfied: opt_einsum>=2.3.2 in e:\\master fd&ia\\m1\\nlp\\projet\\virtualenvironment\\lib\\site-packages (from tensorflow) (3.4.0)\n",
            "Requirement already satisfied: packaging in e:\\master fd&ia\\m1\\nlp\\projet\\virtualenvironment\\lib\\site-packages (from tensorflow) (25.0)\n",
            "Requirement already satisfied: protobuf>=5.28.0 in e:\\master fd&ia\\m1\\nlp\\projet\\virtualenvironment\\lib\\site-packages (from tensorflow) (6.32.1)\n",
            "Requirement already satisfied: setuptools in e:\\master fd&ia\\m1\\nlp\\projet\\virtualenvironment\\lib\\site-packages (from tensorflow) (80.9.0)\n",
            "Requirement already satisfied: six>=1.12.0 in e:\\master fd&ia\\m1\\nlp\\projet\\virtualenvironment\\lib\\site-packages (from tensorflow) (1.17.0)\n",
            "Requirement already satisfied: termcolor>=1.1.0 in e:\\master fd&ia\\m1\\nlp\\projet\\virtualenvironment\\lib\\site-packages (from tensorflow) (3.1.0)\n",
            "Requirement already satisfied: wrapt>=1.11.0 in e:\\master fd&ia\\m1\\nlp\\projet\\virtualenvironment\\lib\\site-packages (from tensorflow) (1.17.3)\n",
            "Requirement already satisfied: grpcio<2.0,>=1.24.3 in e:\\master fd&ia\\m1\\nlp\\projet\\virtualenvironment\\lib\\site-packages (from tensorflow) (1.75.1)\n",
            "Requirement already satisfied: tensorboard~=2.20.0 in e:\\master fd&ia\\m1\\nlp\\projet\\virtualenvironment\\lib\\site-packages (from tensorflow) (2.20.0)\n",
            "Requirement already satisfied: keras>=3.10.0 in e:\\master fd&ia\\m1\\nlp\\projet\\virtualenvironment\\lib\\site-packages (from tensorflow) (3.11.3)\n",
            "Requirement already satisfied: h5py>=3.11.0 in e:\\master fd&ia\\m1\\nlp\\projet\\virtualenvironment\\lib\\site-packages (from tensorflow) (3.14.0)\n",
            "Requirement already satisfied: ml_dtypes<1.0.0,>=0.5.1 in e:\\master fd&ia\\m1\\nlp\\projet\\virtualenvironment\\lib\\site-packages (from tensorflow) (0.5.3)\n",
            "Requirement already satisfied: spacy-legacy<3.1.0,>=3.0.11 in e:\\master fd&ia\\m1\\nlp\\projet\\virtualenvironment\\lib\\site-packages (from spacy) (3.0.12)\n",
            "Requirement already satisfied: spacy-loggers<2.0.0,>=1.0.0 in e:\\master fd&ia\\m1\\nlp\\projet\\virtualenvironment\\lib\\site-packages (from spacy) (1.0.5)\n",
            "Requirement already satisfied: murmurhash<1.1.0,>=0.28.0 in e:\\master fd&ia\\m1\\nlp\\projet\\virtualenvironment\\lib\\site-packages (from spacy) (1.0.13)\n",
            "Requirement already satisfied: cymem<2.1.0,>=2.0.2 in e:\\master fd&ia\\m1\\nlp\\projet\\virtualenvironment\\lib\\site-packages (from spacy) (2.0.11)\n",
            "Requirement already satisfied: preshed<3.1.0,>=3.0.2 in e:\\master fd&ia\\m1\\nlp\\projet\\virtualenvironment\\lib\\site-packages (from spacy) (3.0.10)\n",
            "Requirement already satisfied: thinc<8.4.0,>=8.3.4 in e:\\master fd&ia\\m1\\nlp\\projet\\virtualenvironment\\lib\\site-packages (from spacy) (8.3.6)\n",
            "Requirement already satisfied: wasabi<1.2.0,>=0.9.1 in e:\\master fd&ia\\m1\\nlp\\projet\\virtualenvironment\\lib\\site-packages (from spacy) (1.1.3)\n",
            "Requirement already satisfied: srsly<3.0.0,>=2.4.3 in e:\\master fd&ia\\m1\\nlp\\projet\\virtualenvironment\\lib\\site-packages (from spacy) (2.5.1)\n",
            "Requirement already satisfied: catalogue<2.1.0,>=2.0.6 in e:\\master fd&ia\\m1\\nlp\\projet\\virtualenvironment\\lib\\site-packages (from spacy) (2.0.10)\n",
            "Requirement already satisfied: weasel<0.5.0,>=0.1.0 in e:\\master fd&ia\\m1\\nlp\\projet\\virtualenvironment\\lib\\site-packages (from spacy) (0.4.1)\n",
            "Requirement already satisfied: typer<1.0.0,>=0.3.0 in e:\\master fd&ia\\m1\\nlp\\projet\\virtualenvironment\\lib\\site-packages (from spacy) (0.19.2)\n",
            "Requirement already satisfied: tqdm<5.0.0,>=4.38.0 in e:\\master fd&ia\\m1\\nlp\\projet\\virtualenvironment\\lib\\site-packages (from spacy) (4.67.1)\n",
            "Requirement already satisfied: pydantic!=1.8,!=1.8.1,<3.0.0,>=1.7.4 in e:\\master fd&ia\\m1\\nlp\\projet\\virtualenvironment\\lib\\site-packages (from spacy) (2.11.9)\n",
            "Requirement already satisfied: jinja2 in e:\\master fd&ia\\m1\\nlp\\projet\\virtualenvironment\\lib\\site-packages (from spacy) (3.1.6)\n",
            "Requirement already satisfied: langcodes<4.0.0,>=3.2.0 in e:\\master fd&ia\\m1\\nlp\\projet\\virtualenvironment\\lib\\site-packages (from spacy) (3.5.0)\n",
            "Requirement already satisfied: contourpy>=1.0.1 in e:\\master fd&ia\\m1\\nlp\\projet\\virtualenvironment\\lib\\site-packages (from matplotlib) (1.3.3)\n",
            "Requirement already satisfied: cycler>=0.10 in e:\\master fd&ia\\m1\\nlp\\projet\\virtualenvironment\\lib\\site-packages (from matplotlib) (0.12.1)\n",
            "Requirement already satisfied: fonttools>=4.22.0 in e:\\master fd&ia\\m1\\nlp\\projet\\virtualenvironment\\lib\\site-packages (from matplotlib) (4.60.0)\n",
            "Requirement already satisfied: kiwisolver>=1.3.1 in e:\\master fd&ia\\m1\\nlp\\projet\\virtualenvironment\\lib\\site-packages (from matplotlib) (1.4.9)\n",
            "Requirement already satisfied: pillow>=8 in e:\\master fd&ia\\m1\\nlp\\projet\\virtualenvironment\\lib\\site-packages (from matplotlib) (11.3.0)\n",
            "Requirement already satisfied: pyparsing>=2.3.1 in e:\\master fd&ia\\m1\\nlp\\projet\\virtualenvironment\\lib\\site-packages (from matplotlib) (3.2.5)\n",
            "Requirement already satisfied: wheel<1.0,>=0.23.0 in e:\\master fd&ia\\m1\\nlp\\projet\\virtualenvironment\\lib\\site-packages (from astunparse>=1.6.0->tensorflow) (0.45.1)\n",
            "Requirement already satisfied: rich in e:\\master fd&ia\\m1\\nlp\\projet\\virtualenvironment\\lib\\site-packages (from keras>=3.10.0->tensorflow) (14.1.0)\n",
            "Requirement already satisfied: namex in e:\\master fd&ia\\m1\\nlp\\projet\\virtualenvironment\\lib\\site-packages (from keras>=3.10.0->tensorflow) (0.1.0)\n",
            "Requirement already satisfied: optree in e:\\master fd&ia\\m1\\nlp\\projet\\virtualenvironment\\lib\\site-packages (from keras>=3.10.0->tensorflow) (0.17.0)\n",
            "Requirement already satisfied: language-data>=1.2 in e:\\master fd&ia\\m1\\nlp\\projet\\virtualenvironment\\lib\\site-packages (from langcodes<4.0.0,>=3.2.0->spacy) (1.3.0)\n",
            "Requirement already satisfied: annotated-types>=0.6.0 in e:\\master fd&ia\\m1\\nlp\\projet\\virtualenvironment\\lib\\site-packages (from pydantic!=1.8,!=1.8.1,<3.0.0,>=1.7.4->spacy) (0.7.0)\n",
            "Requirement already satisfied: pydantic-core==2.33.2 in e:\\master fd&ia\\m1\\nlp\\projet\\virtualenvironment\\lib\\site-packages (from pydantic!=1.8,!=1.8.1,<3.0.0,>=1.7.4->spacy) (2.33.2)\n",
            "Requirement already satisfied: typing-inspection>=0.4.0 in e:\\master fd&ia\\m1\\nlp\\projet\\virtualenvironment\\lib\\site-packages (from pydantic!=1.8,!=1.8.1,<3.0.0,>=1.7.4->spacy) (0.4.1)\n",
            "Requirement already satisfied: markdown>=2.6.8 in e:\\master fd&ia\\m1\\nlp\\projet\\virtualenvironment\\lib\\site-packages (from tensorboard~=2.20.0->tensorflow) (3.9)\n",
            "Requirement already satisfied: tensorboard-data-server<0.8.0,>=0.7.0 in e:\\master fd&ia\\m1\\nlp\\projet\\virtualenvironment\\lib\\site-packages (from tensorboard~=2.20.0->tensorflow) (0.7.2)\n",
            "Requirement already satisfied: werkzeug>=1.0.1 in e:\\master fd&ia\\m1\\nlp\\projet\\virtualenvironment\\lib\\site-packages (from tensorboard~=2.20.0->tensorflow) (3.1.3)\n",
            "Requirement already satisfied: blis<1.4.0,>=1.3.0 in e:\\master fd&ia\\m1\\nlp\\projet\\virtualenvironment\\lib\\site-packages (from thinc<8.4.0,>=8.3.4->spacy) (1.3.0)\n",
            "Requirement already satisfied: confection<1.0.0,>=0.0.1 in e:\\master fd&ia\\m1\\nlp\\projet\\virtualenvironment\\lib\\site-packages (from thinc<8.4.0,>=8.3.4->spacy) (0.1.5)\n",
            "Requirement already satisfied: colorama in e:\\master fd&ia\\m1\\nlp\\projet\\virtualenvironment\\lib\\site-packages (from tqdm<5.0.0,>=4.38.0->spacy) (0.4.6)\n",
            "Requirement already satisfied: click>=8.0.0 in e:\\master fd&ia\\m1\\nlp\\projet\\virtualenvironment\\lib\\site-packages (from typer<1.0.0,>=0.3.0->spacy) (8.3.0)\n",
            "Requirement already satisfied: shellingham>=1.3.0 in e:\\master fd&ia\\m1\\nlp\\projet\\virtualenvironment\\lib\\site-packages (from typer<1.0.0,>=0.3.0->spacy) (1.5.4)\n",
            "Requirement already satisfied: cloudpathlib<1.0.0,>=0.7.0 in e:\\master fd&ia\\m1\\nlp\\projet\\virtualenvironment\\lib\\site-packages (from weasel<0.5.0,>=0.1.0->spacy) (0.22.0)\n",
            "Requirement already satisfied: smart-open<8.0.0,>=5.2.1 in e:\\master fd&ia\\m1\\nlp\\projet\\virtualenvironment\\lib\\site-packages (from weasel<0.5.0,>=0.1.0->spacy) (7.3.1)\n",
            "Requirement already satisfied: MarkupSafe>=2.0 in e:\\master fd&ia\\m1\\nlp\\projet\\virtualenvironment\\lib\\site-packages (from jinja2->spacy) (3.0.2)\n",
            "Requirement already satisfied: marisa-trie>=1.1.0 in e:\\master fd&ia\\m1\\nlp\\projet\\virtualenvironment\\lib\\site-packages (from language-data>=1.2->langcodes<4.0.0,>=3.2.0->spacy) (1.3.1)\n",
            "Requirement already satisfied: markdown-it-py>=2.2.0 in e:\\master fd&ia\\m1\\nlp\\projet\\virtualenvironment\\lib\\site-packages (from rich->keras>=3.10.0->tensorflow) (4.0.0)\n",
            "Requirement already satisfied: pygments<3.0.0,>=2.13.0 in e:\\master fd&ia\\m1\\nlp\\projet\\virtualenvironment\\lib\\site-packages (from rich->keras>=3.10.0->tensorflow) (2.19.2)\n",
            "Requirement already satisfied: mdurl~=0.1 in e:\\master fd&ia\\m1\\nlp\\projet\\virtualenvironment\\lib\\site-packages (from markdown-it-py>=2.2.0->rich->keras>=3.10.0->tensorflow) (0.1.2)\n",
            "Note: you may need to restart the kernel to use updated packages.\n"
          ]
        },
        {
          "name": "stderr",
          "output_type": "stream",
          "text": [
            "\n",
            "[notice] A new release of pip is available: 25.0.1 -> 25.2\n",
            "[notice] To update, run: python.exe -m pip install --upgrade pip\n"
          ]
        }
      ],
      "source": [
        "#%pip install requests beautifulsoup4 pandas openpyxl tensorflow tf-keras emoji spacy matplotlib wordcloud"
      ]
    },
    {
      "cell_type": "code",
      "execution_count": null,
      "id": "zZjONu1O8Gas",
      "metadata": {
        "id": "zZjONu1O8Gas"
      },
      "outputs": [],
      "source": [
        "#!pip install -q transformers torch"
      ]
    },
    {
      "cell_type": "code",
      "execution_count": null,
      "id": "5jU97X4_6HU7",
      "metadata": {
        "colab": {
          "base_uri": "https://localhost:8080/"
        },
        "id": "5jU97X4_6HU7",
        "outputId": "be01dd68-626a-4e56-a8fa-e9b21a1df2d5"
      },
      "outputs": [],
      "source": [
        "#!python -m spacy download fr_core_news_sm"
      ]
    },
    {
      "cell_type": "markdown",
      "id": "de122dad",
      "metadata": {
        "id": "de122dad"
      },
      "source": [
        "#### <font color='blue'>1 - Importations et configuration de base</font>"
      ]
    },
    {
      "cell_type": "code",
      "execution_count": 46,
      "id": "a0118449",
      "metadata": {
        "colab": {
          "base_uri": "https://localhost:8080/"
        },
        "id": "a0118449",
        "outputId": "be768d00-31dd-4715-c47c-c69777e8fea3"
      },
      "outputs": [
        {
          "name": "stdout",
          "output_type": "stream",
          "text": [
            "2.20.0\n",
            "Bibliothèques importées avec succès\n"
          ]
        }
      ],
      "source": [
        "\n",
        "import requests\n",
        "from bs4 import BeautifulSoup\n",
        "import pandas as pd\n",
        "import json\n",
        "from datetime import datetime\n",
        "import re\n",
        "from typing import Dict, List, Optional, Any\n",
        "import warnings\n",
        "import emoji\n",
        "import spacy\n",
        "from collections import Counter\n",
        "from datetime import timedelta\n",
        "from transformers import pipeline\n",
        "from sklearn.feature_extraction.text import CountVectorizer\n",
        "import matplotlib.pyplot as plt\n",
        "from wordcloud import WordCloud\n",
        "import nltk\n",
        "from nltk.corpus import stopwords\n",
        "from sklearn.feature_extraction.text import CountVectorizer\n",
        "import matplotlib.pyplot as plt\n",
        "nlp = spacy.load(\"fr_core_news_sm\", disable=[\"parser\", \"ner\"])\n",
        "\n",
        "warnings.filterwarnings('ignore')\n",
        "\n",
        "from transformers import TFAutoModelForSequenceClassification, AutoTokenizer\n",
        "import tensorflow as tf\n",
        "print(tf.__version__)\n",
        "print(\"Bibliothèques importées avec succès\")"
      ]
    },
    {
      "cell_type": "markdown",
      "id": "1001ec64",
      "metadata": {
        "id": "1001ec64"
      },
      "source": [
        "#### <font color='blue'>2 - Classe principale du scraper</font>"
      ]
    },
    {
      "cell_type": "code",
      "execution_count": 47,
      "id": "78d6cb77",
      "metadata": {
        "colab": {
          "base_uri": "https://localhost:8080/"
        },
        "id": "78d6cb77",
        "outputId": "e2d67c6e-e0bc-4e2a-e114-fa033a3c5674"
      },
      "outputs": [
        {
          "name": "stdout",
          "output_type": "stream",
          "text": [
            "Scraper initialisé avec succès\n"
          ]
        }
      ],
      "source": [
        "class LefasoCommentScraper:\n",
        "    \"\"\"Classe principale pour scraper les commentaires de LeFaso.net\"\"\"\n",
        "\n",
        "    def __init__(self):\n",
        "        self.session = requests.Session()\n",
        "        self._setup_headers()\n",
        "        self.base_url = \"https://lefaso.net\"\n",
        "        self.dataframe = None\n",
        "\n",
        "    def _setup_headers(self):\n",
        "        self.session.headers.update({\n",
        "            'User-Agent': 'Mozilla/5.0 (Windows NT 10.0; Win64; x64) AppleWebKit/537.36',\n",
        "            'Accept': 'text/html,application/xhtml+xml,application/xml;q=0.9,image/webp,*/*;q=0.8',\n",
        "            'Accept-Language': 'fr-FR,fr;q=0.8,en-US;q=0.5,en;q=0.3',\n",
        "        })\n",
        "\n",
        "    def fetch_page(self, url: str) -> Optional[BeautifulSoup]:\n",
        "        \"\"\"Récupère le contenu HTML d'une page\"\"\"\n",
        "        try:\n",
        "            print(f\"Récupération de la page: {url}\")\n",
        "            response = self.session.get(url, timeout=30)\n",
        "            response.raise_for_status()\n",
        "            return BeautifulSoup(response.content, 'html.parser')\n",
        "        except Exception as e:\n",
        "            print(f\"Erreur lors de la récupération: {e}\")\n",
        "            return None\n",
        "\n",
        "# Test d'initialisation\n",
        "scraper = LefasoCommentScraper()\n",
        "print(\"Scraper initialisé avec succès\")"
      ]
    },
    {
      "cell_type": "markdown",
      "id": "df270415",
      "metadata": {
        "id": "df270415"
      },
      "source": [
        "#### <font color='blue'>3 - Extraction des informations de l'article</font>"
      ]
    },
    {
      "cell_type": "code",
      "execution_count": 48,
      "id": "c23d19f3",
      "metadata": {
        "colab": {
          "base_uri": "https://localhost:8080/"
        },
        "id": "c23d19f3",
        "outputId": "b7f4364c-df41-4e26-9a59-6147a8b7a2a8"
      },
      "outputs": [
        {
          "name": "stdout",
          "output_type": "stream",
          "text": [
            "Méthode d'extraction d'infos article ajoutée\n"
          ]
        }
      ],
      "source": [
        "def extract_article_info(self, soup: BeautifulSoup, url: str) -> Dict[str, Any]:\n",
        "    \"\"\"Extraction des informations principales de l'article\"\"\"\n",
        "    article_info = {\n",
        "        'titre': 'Non trouvé',\n",
        "        'url': url,\n",
        "        'date_publication': 'Non trouvé',\n",
        "        'categorie': 'Non trouvé',\n",
        "        'date_scraping': datetime.now().isoformat()\n",
        "    }\n",
        "\n",
        "    try:\n",
        "        # Titre de l'article\n",
        "        title_elems = soup.find_all('h1', class_='entry-title')\n",
        "        if len(title_elems) >= 2:\n",
        "            article_info['titre'] = title_elems[1].get_text(strip=True)\n",
        "        elif len(title_elems) == 1:\n",
        "            article_info['titre'] = title_elems[0].get_text(strip=True)\n",
        "        else:\n",
        "            print(\"Aucun h1 avec class='entry-title' trouvé\")\n",
        "\n",
        "        # Date de publication\n",
        "        for p in soup.find_all('p'):\n",
        "            text = p.get_text()\n",
        "            if 'Publié le' in text:\n",
        "                article_info['date_publication'] = text.replace('Publié le', '').strip()\n",
        "                break\n",
        "\n",
        "        # Catégorie\n",
        "        hierarchie = soup.find('div', id='hierarchie')\n",
        "        if hierarchie:\n",
        "            article_info['categorie'] = hierarchie.get_text(strip=True)\n",
        "\n",
        "    except Exception as e:\n",
        "        print(f\"Erreur extraction infos article: {e}\")\n",
        "\n",
        "    return article_info\n",
        "\n",
        "# Ajout de la méthode à la classe\n",
        "LefasoCommentScraper.extract_article_info = extract_article_info\n",
        "print(\"Méthode d'extraction d'infos article ajoutée\")"
      ]
    },
    {
      "cell_type": "markdown",
      "id": "0e569305",
      "metadata": {
        "id": "0e569305"
      },
      "source": [
        "#### <font color='blue'>4 - Extraction de la section des commentaires</font>"
      ]
    },
    {
      "cell_type": "code",
      "execution_count": 49,
      "id": "c5f52038",
      "metadata": {
        "colab": {
          "base_uri": "https://localhost:8080/"
        },
        "id": "c5f52038",
        "outputId": "0441839e-8b47-4850-e4a8-be8496b9393f"
      },
      "outputs": [
        {
          "name": "stdout",
          "output_type": "stream",
          "text": [
            "Méthode d'extraction de section commentaires ajoutée\n"
          ]
        }
      ],
      "source": [
        "def extract_comments_section(self, soup: BeautifulSoup) -> Optional[BeautifulSoup]:\n",
        "    \"\"\"Localisation de la section des commentaires\"\"\"\n",
        "    comments_section = soup.find(\"ul\", id=\"navforum\")\n",
        "    if comments_section:\n",
        "        print(\"Section commentaires trouvée avec find(id='navforum')\")\n",
        "        return comments_section\n",
        "\n",
        "    selectors = ['ul#navforum', '.forum', '#navforum']\n",
        "    for selector in selectors:\n",
        "        section = soup.select_one(selector)\n",
        "        if section:\n",
        "            print(f\"Section trouvée avec sélecteur: {selector}\")\n",
        "            return section\n",
        "\n",
        "    print(\"Aucune section de commentaires trouvée\")\n",
        "    return None\n",
        "\n",
        "LefasoCommentScraper.extract_comments_section = extract_comments_section\n",
        "print(\"Méthode d'extraction de section commentaires ajoutée\")"
      ]
    },
    {
      "cell_type": "markdown",
      "id": "5e8ed56b",
      "metadata": {
        "id": "5e8ed56b"
      },
      "source": [
        "#### <font color='blue'>5 - Parsing des commentaires individuels</font>"
      ]
    },
    {
      "cell_type": "code",
      "execution_count": 51,
      "id": "a97dedd6",
      "metadata": {
        "colab": {
          "base_uri": "https://localhost:8080/"
        },
        "id": "a97dedd6",
        "outputId": "3ff19126-dcd3-44c1-e922-5ce6697cd1a9"
      },
      "outputs": [
        {
          "name": "stdout",
          "output_type": "stream",
          "text": [
            "Méthodes de parsing de commentaires ajoutées\n"
          ]
        }
      ],
      "source": [
        "def parse_comment_author_date(self, text: str) -> tuple:\n",
        "    \"\"\"Extraction de l'auteur et de la date à partir du texte\"\"\"\n",
        "    auteur, date = \"Anonyme\", \"Date inconnue\"\n",
        "\n",
        "    try:\n",
        "        if 'par' in text and ',' in text:\n",
        "            parts = text.split('par', 1)[1].split(',', 1)\n",
        "            auteur = parts[0].strip()\n",
        "            if len(parts) > 1:\n",
        "                date = parts[1].strip()\n",
        "    except:\n",
        "        pass\n",
        "\n",
        "    return auteur, date\n",
        "\n",
        "def extract_comment_content(self, comment_element) -> str:\n",
        "    \"\"\"Extraction du contenu textuel d'un commentaire\"\"\"\n",
        "    content_elem = comment_element.find('div', class_='ugccmt-commenttext')\n",
        "    if content_elem:\n",
        "        content = content_elem.get_text(strip=True)\n",
        "        # Nettoyage basique\n",
        "        content = re.sub(r'\\s+', ' ', content)\n",
        "        return content.strip()\n",
        "    return \"\"\n",
        "\n",
        "def parse_single_comment(self, comment_element, comment_id: int, is_reply: bool = False) -> Optional[Dict[str, Any]]:\n",
        "    \"\"\"Parsing d'un commentaire individuel\"\"\"\n",
        "    try:\n",
        "        # Extraction auteur et date\n",
        "        chapo_elem = comment_element.find('div', class_='forum-chapo')\n",
        "        auteur, date = \"Anonyme\", \"Date inconnue\"\n",
        "\n",
        "        if chapo_elem:\n",
        "            chapo_text = chapo_elem.get_text(strip=True)\n",
        "            auteur, date = self.parse_comment_author_date(chapo_text)\n",
        "\n",
        "\n",
        "        # Extraire le contenu\n",
        "        contenu = self.extract_comment_content(comment_element)\n",
        "\n",
        "        if not contenu:\n",
        "            return None\n",
        "\n",
        "        return {\n",
        "            'id_commentaire': comment_id,\n",
        "            'auteur': auteur,\n",
        "            'date_publication': date,\n",
        "            'contenu': contenu,\n",
        "            'type': 'reponse' if is_reply else 'commentaire',\n",
        "            'longueur_contenu': len(contenu),\n",
        "            'mots_contenu': len(contenu.split())\n",
        "        }\n",
        "\n",
        "    except Exception as e:\n",
        "        print(f\"Erreur parsing commentaire {comment_id}: {e}\")\n",
        "        return None\n",
        "\n",
        "# Ajout des méthodes à la classe\n",
        "LefasoCommentScraper.parse_comment_author_date = parse_comment_author_date\n",
        "LefasoCommentScraper.extract_comment_content = extract_comment_content\n",
        "LefasoCommentScraper.parse_single_comment = parse_single_comment\n",
        "print(\"Méthodes de parsing de commentaires ajoutées\")"
      ]
    },
    {
      "cell_type": "markdown",
      "id": "b1b525a2",
      "metadata": {
        "id": "b1b525a2"
      },
      "source": [
        "#### <font color='blue'>6 - Extraction des réponses aux commentaires</font>"
      ]
    },
    {
      "cell_type": "code",
      "execution_count": 52,
      "id": "31063512",
      "metadata": {
        "colab": {
          "base_uri": "https://localhost:8080/"
        },
        "id": "31063512",
        "outputId": "3ee1cf15-75f4-4b36-ba71-a425488d59e7"
      },
      "outputs": [
        {
          "name": "stdout",
          "output_type": "stream",
          "text": [
            "Méthode d'extraction des réponses ajoutée\n"
          ]
        }
      ],
      "source": [
        "def extract_replies(self, comment_element, parent_id: int) -> List[Dict[str, Any]]:\n",
        "    \"\"\"Extraction des réponses à un commentaire\"\"\"\n",
        "    replies = []\n",
        "\n",
        "    try:\n",
        "        replies_list = comment_element.find('ul')\n",
        "        if replies_list:\n",
        "            reply_elems = replies_list.find_all('li')\n",
        "\n",
        "            for i, reply_elem in enumerate(reply_elems, 1):\n",
        "                reply_data = self.parse_single_comment(reply_elem, i, is_reply=True)\n",
        "                if reply_data:\n",
        "                    replies.append(reply_data)\n",
        "    except Exception as e:\n",
        "        print(f\"Erreur extraction réponses: {e}\")\n",
        "\n",
        "    return replies\n",
        "\n",
        "LefasoCommentScraper.extract_replies = extract_replies\n",
        "print(\"Méthode d'extraction des réponses ajoutée\")"
      ]
    },
    {
      "cell_type": "markdown",
      "id": "a78e034d",
      "metadata": {
        "id": "a78e034d"
      },
      "source": [
        "#### <font color='blue'>7 - Méthode principale de scraping</font>"
      ]
    },
    {
      "cell_type": "code",
      "execution_count": 53,
      "id": "ce465db8",
      "metadata": {
        "colab": {
          "base_uri": "https://localhost:8080/"
        },
        "id": "ce465db8",
        "outputId": "8d87990d-b793-4925-f7ba-c25bfab82526"
      },
      "outputs": [
        {
          "name": "stdout",
          "output_type": "stream",
          "text": [
            "Méthode principale de scraping ajoutée\n"
          ]
        }
      ],
      "source": [
        "def scrape_article_comments(self, url: str) -> Dict[str, Any]:\n",
        "    print(f\"\\nDébut du scraping pour: {url}\")\n",
        "\n",
        "    # Récupération de la page\n",
        "    soup = self.fetch_page(url)\n",
        "    if not soup:\n",
        "        return {'erreur': 'Impossible de récupérer la page', 'url': url}\n",
        "\n",
        "    # Extraction des informations de l'article\n",
        "    article_info = self.extract_article_info(soup, url)\n",
        "\n",
        "    # Localisation de la section des commentaires\n",
        "    comments_section = self.extract_comments_section(soup)\n",
        "    if not comments_section:\n",
        "        article_info['commentaires'] = []\n",
        "        article_info['statistiques'] = {'total_commentaires': 0, 'total_reponses': 0}\n",
        "        return article_info\n",
        "\n",
        "    # Extraction des commentaires principaux\n",
        "    commentaires_principaux = []\n",
        "    comment_items = comments_section.find_all('li', class_='forum-fil')\n",
        "\n",
        "    print(f\"{len(comment_items)} commentaire(s) principal(aux) trouvé(s)\")\n",
        "\n",
        "    for i, comment_item in enumerate(comment_items, 1):\n",
        "        # Parsing du commentaire principal\n",
        "        comment_data = self.parse_single_comment(comment_item, i)\n",
        "        if not comment_data:\n",
        "            continue\n",
        "\n",
        "        # Extraction des réponses\n",
        "        reponses = self.extract_replies(comment_item, i)\n",
        "        comment_data['reponses'] = reponses\n",
        "        comment_data['nombre_reponses'] = len(reponses)\n",
        "        commentaires_principaux.append(comment_data)\n",
        "\n",
        "    # Compiler les statistiques\n",
        "    total_reponses = sum(comment['nombre_reponses'] for comment in commentaires_principaux)\n",
        "\n",
        "    result = {\n",
        "        'article': article_info,\n",
        "        'commentaires': commentaires_principaux,\n",
        "        'statistiques': {\n",
        "            'total_commentaires': len(commentaires_principaux),\n",
        "            'total_reponses': total_reponses,\n",
        "            'total_interventions': len(commentaires_principaux) + total_reponses\n",
        "        }\n",
        "    }\n",
        "\n",
        "    print(f\"Scraping terminé: {len(commentaires_principaux)} commentaires, {total_reponses} réponses\")\n",
        "    return result\n",
        "\n",
        "LefasoCommentScraper.scrape_article_comments = scrape_article_comments\n",
        "print(\"Méthode principale de scraping ajoutée\")"
      ]
    },
    {
      "cell_type": "markdown",
      "id": "d1762514",
      "metadata": {
        "id": "d1762514"
      },
      "source": [
        "#### <font color='blue'>8 - Création du DataFrame structuré</font>"
      ]
    },
    {
      "cell_type": "code",
      "execution_count": 54,
      "id": "ac43b9fa",
      "metadata": {
        "colab": {
          "base_uri": "https://localhost:8080/"
        },
        "id": "ac43b9fa",
        "outputId": "81828566-09ce-4870-ee47-efd6519f1150"
      },
      "outputs": [
        {
          "name": "stdout",
          "output_type": "stream",
          "text": [
            "Méthode de création du DataFrame ajoutée\n"
          ]
        }
      ],
      "source": [
        "def create_dataframe(self, data: Dict[str, Any]) -> pd.DataFrame:\n",
        "    \"\"\"Création d'un DataFrame pandas structuré à partir des données scrapées\"\"\"\n",
        "    rows = []\n",
        "    article_info = data['article']\n",
        "\n",
        "    # Vérification des commentaires\n",
        "    if not data.get('commentaires'):\n",
        "        print(\"Aucun commentaire à structurer\")\n",
        "        return pd.DataFrame()\n",
        "\n",
        "    for commentaire in data.get('commentaires', []):\n",
        "        # Ligne pour le commentaire principal\n",
        "        row_comment = {\n",
        "            'id_article': article_info.get('url', 'unknown').split('=')[-1],\n",
        "            'titre_article': article_info.get('titre', ''),\n",
        "            'url_article': article_info.get('url', ''),\n",
        "            'date_publication_article': article_info.get('date_publication', ''),\n",
        "            'categorie_article': article_info.get('categorie', ''),\n",
        "            'date_scraping': article_info.get('date_scraping', ''),\n",
        "\n",
        "            'id_commentaire': f\"C{commentaire['id_commentaire']:03d}\",\n",
        "            'id_parent': None,\n",
        "            'type': 'commentaire',\n",
        "            'auteur': commentaire['auteur'],\n",
        "            'date_publication': commentaire['date_publication'],\n",
        "            'contenu': commentaire['contenu'],\n",
        "            'longueur_contenu': commentaire['longueur_contenu'],\n",
        "            'mots_contenu': commentaire['mots_contenu'],\n",
        "            'nombre_reponses': commentaire.get('nombre_reponses', 0)\n",
        "        }\n",
        "        rows.append(row_comment)\n",
        "\n",
        "        # Lignes pour les réponses\n",
        "        for reponse in commentaire.get('reponses', []):\n",
        "            row_reponse = {\n",
        "                'id_article': article_info.get('url', 'unknown').split('=')[-1],\n",
        "                'titre_article': article_info.get('titre', ''),\n",
        "                'url_article': article_info.get('url', ''),\n",
        "                'date_publication_article': article_info.get('date_publication', ''),\n",
        "                'categorie_article': article_info.get('categorie', ''),\n",
        "                'date_scraping': article_info.get('date_scraping', ''),\n",
        "\n",
        "                'id_commentaire': f\"C{commentaire['id_commentaire']:03d}R{reponse['id_commentaire']:02d}\",\n",
        "                'id_parent': f\"C{commentaire['id_commentaire']:03d}\",\n",
        "                'type': 'reponse',\n",
        "                'auteur': reponse['auteur'],\n",
        "                'date_publication': reponse['date_publication'],\n",
        "                'contenu': reponse['contenu'],\n",
        "                'longueur_contenu': reponse['longueur_contenu'],\n",
        "                'mots_contenu': reponse['mots_contenu'],\n",
        "                'nombre_reponses': 0\n",
        "            }\n",
        "            rows.append(row_reponse)\n",
        "\n",
        "    self.dataframe = pd.DataFrame(rows)\n",
        "    return self.dataframe\n",
        "\n",
        "LefasoCommentScraper.create_dataframe = create_dataframe\n",
        "print(\"Méthode de création du DataFrame ajoutée\")"
      ]
    },
    {
      "cell_type": "markdown",
      "id": "219e84b7",
      "metadata": {
        "id": "219e84b7"
      },
      "source": [
        "#### <font color='blue'>9 - Sauvegarde des données (Excel et JSON)</font>"
      ]
    },
    {
      "cell_type": "code",
      "execution_count": 55,
      "id": "8d3b84b2",
      "metadata": {
        "colab": {
          "base_uri": "https://localhost:8080/"
        },
        "id": "8d3b84b2",
        "outputId": "f955afcc-b1d1-4ed9-d1f9-5467080ed4a2"
      },
      "outputs": [
        {
          "name": "stdout",
          "output_type": "stream",
          "text": [
            "Méthodes de sauvegarde ajoutées\n"
          ]
        }
      ],
      "source": [
        "def save_to_excel(self, data: Dict[str, Any], filename: str = None):\n",
        "    \"\"\"Sauvegarde des données dans un fichier Excel\"\"\"\n",
        "    if filename is None:\n",
        "        timestamp = datetime.now().strftime('%Y%m%d_%H%M%S')\n",
        "        filename = f\"lefasonet_comments_{timestamp}.xlsx\"\n",
        "\n",
        "    if self.dataframe is None:\n",
        "        self.create_dataframe(data)\n",
        "\n",
        "    if self.dataframe.empty:\n",
        "        print(\"Aucune donnée à sauvegarder\")\n",
        "        return\n",
        "\n",
        "    try:\n",
        "        with pd.ExcelWriter(filename, engine='openpyxl') as writer:\n",
        "            self.dataframe.to_excel(writer, sheet_name='Commentaires', index=False)\n",
        "            stats_df = pd.DataFrame([data['statistiques']])\n",
        "            stats_df.to_excel(writer, sheet_name='Statistiques', index=False)\n",
        "            article_df = pd.DataFrame([data['article']])\n",
        "            article_df.to_excel(writer, sheet_name='Article', index=False)\n",
        "\n",
        "        print(f\"Fichier Excel sauvegardé: {filename}\")\n",
        "\n",
        "    except Exception as e:\n",
        "        print(f\"Erreur sauvegarde Excel: {e}\")\n",
        "\n",
        "def save_to_json(self, data: Dict[str, Any], filename: str = None):\n",
        "    \"\"\"Sauvegarde des données dans un fichier JSON\"\"\"\n",
        "    if filename is None:\n",
        "        timestamp = datetime.now().strftime('%Y%m%d_%H%M%S')\n",
        "        filename = f\"lefasonet_comments_{timestamp}.json\"\n",
        "\n",
        "    try:\n",
        "        with open(filename, 'w', encoding='utf-8') as f:\n",
        "            json.dump(data, f, ensure_ascii=False, indent=2, default=str)\n",
        "\n",
        "        print(f\"Fichier JSON sauvegardé: {filename}\")\n",
        "\n",
        "    except Exception as e:\n",
        "        print(f\"Erreur sauvegarde JSON: {e}\")\n",
        "\n",
        "LefasoCommentScraper.save_to_excel = save_to_excel\n",
        "LefasoCommentScraper.save_to_json = save_to_json\n",
        "print(\"Méthodes de sauvegarde ajoutées\")"
      ]
    },
    {
      "cell_type": "markdown",
      "id": "0e985618",
      "metadata": {
        "id": "0e985618"
      },
      "source": [
        "#### <font color='blue'>10 - Affichage des résultats et statistiques</font>"
      ]
    },
    {
      "cell_type": "code",
      "execution_count": 56,
      "id": "7717789e",
      "metadata": {
        "colab": {
          "base_uri": "https://localhost:8080/"
        },
        "id": "7717789e",
        "outputId": "90a915de-783e-406f-b03d-acbbd1c5798c"
      },
      "outputs": [
        {
          "name": "stdout",
          "output_type": "stream",
          "text": [
            "Méthode d'affichage ajoutée\n"
          ]
        }
      ],
      "source": [
        "def display_summary(self, data: Dict[str, Any]):\n",
        "    \"\"\"Affichage d'un résumé des données scrapées\"\"\"\n",
        "    print(\"\\n\" + \"=\"*60)\n",
        "    print(\"RÉSUMÉ DU SCRAPING\")\n",
        "    print(\"=\"*60)\n",
        "\n",
        "    if 'erreur' in data:\n",
        "        print(f\"Erreur: {data['erreur']}\")\n",
        "        return\n",
        "\n",
        "    article = data['article']\n",
        "    stats = data['statistiques']\n",
        "\n",
        "    print(f\"TITRE: {article.get('titre', 'N/A')}\")\n",
        "    print(f\"URL: {article.get('url', 'N/A')}\")\n",
        "    print(f\"DATE: {article.get('date_publication', 'N/A')}\")\n",
        "    print(f\"CATÉGORIE: {article.get('categorie', 'N/A')}\")\n",
        "    print(f\"COMMENTAIRES: {stats.get('total_commentaires', 0)}\")\n",
        "    print(f\"RÉPONSES: {stats.get('total_reponses', 0)}\")\n",
        "    print(f\"TOTAL: {stats.get('total_interventions', 0)} interventions\")\n",
        "\n",
        "LefasoCommentScraper.display_summary = display_summary\n",
        "print(\"Méthode d'affichage ajoutée\")"
      ]
    },
    {
      "cell_type": "markdown",
      "id": "42b51236",
      "metadata": {
        "id": "42b51236"
      },
      "source": [
        "#### <font color='blue'>12 - EXÉCUTION AVEC URL PERSONNALISÉE</font>"
      ]
    },
    {
      "cell_type": "code",
      "execution_count": 57,
      "id": "c684b1f0",
      "metadata": {
        "id": "c684b1f0"
      },
      "outputs": [],
      "source": [
        "def scraper_interactif():\n",
        "    \"\"\"Version interactive pour scraper n'importe quelle URL\"\"\"\n",
        "    print(\"SCRAPER INTERACTIF LeFaso.net\")\n",
        "    print(\"=\" * 40)\n",
        "\n",
        "    # Demande de l'URL\n",
        "    url = input(\"Entrez l'URL de l'article LeFaso.net: \").strip()\n",
        "\n",
        "    if not url.startswith('http'):\n",
        "        url = 'https://' + url\n",
        "\n",
        "    # Initialisation et exécution\n",
        "    scraper = LefasoCommentScraper()\n",
        "    data = scraper.scrape_article_comments(url)\n",
        "\n",
        "    if 'erreur' in data:\n",
        "        print(f\"Erreur: {data['erreur']}\")\n",
        "        return\n",
        "\n",
        "    scraper.display_summary(data)\n",
        "    df = scraper.create_dataframe(data)\n",
        "\n",
        "    if not df.empty:\n",
        "        print(f\"\\nDataFrame: {len(df)} lignes\")\n",
        "\n",
        "        # Sauvegarder\n",
        "        timestamp = datetime.now().strftime('%Y%m%d_%H%M%S')\n",
        "        scraper.save_to_excel(data, f\"lefaso_{timestamp}.xlsx\")\n",
        "        scraper.save_to_json(data, f\"lefaso_{timestamp}.json\")\n",
        "\n",
        "        return df\n",
        "    else:\n",
        "        print(\"Aucune donnée extraite\")\n",
        "        return None\n",
        "\n",
        "# Décommenter la ligne suivante pour utiliser le mode interactif\n",
        "# df_resultat = scraper_interactif()"
      ]
    },
    {
      "cell_type": "markdown",
      "id": "d873362d",
      "metadata": {
        "id": "d873362d"
      },
      "source": [
        "#### <font color='blue'>13 - Scraping multiple d'URLs</font>"
      ]
    },
    {
      "cell_type": "code",
      "execution_count": 58,
      "id": "e148b26a",
      "metadata": {
        "id": "e148b26a"
      },
      "outputs": [],
      "source": [
        "def scraper_multiple_urls(urls):\n",
        "    \"\"\"\n",
        "    Scrape plusieurs URLs et combine les résultats\n",
        "    \"\"\"\n",
        "    scraper = LefasoCommentScraper()\n",
        "    all_data = []\n",
        "\n",
        "    print(\"DÉBUT DU SCRAPING MULTIPLE\")\n",
        "    print(\"=\" * 50)\n",
        "\n",
        "    for i, url in enumerate(urls, 1):\n",
        "        print(f\"\\nTraitement de l'URL {i}/{len(urls)}: {url}\")\n",
        "\n",
        "        data = scraper.scrape_article_comments(url)\n",
        "        if data and data.get('commentaires'):\n",
        "            all_data.append(data)\n",
        "            print(f\"Article {i} scrapé avec succès\")\n",
        "        else:\n",
        "            print(f\"Échec du scraping pour l'article {i}\")\n",
        "\n",
        "    if not all_data:\n",
        "        print(\"Aucune donnée récupérée\")\n",
        "        return pd.DataFrame()\n",
        "\n",
        "    # Combiner tous les DataFrames\n",
        "    combined_df = pd.DataFrame()\n",
        "    for j, data in enumerate(all_data, 1):\n",
        "        print(f\"Structuration des données de l'article {j}/{len(all_data)}...\")\n",
        "        df = scraper.create_dataframe(data)\n",
        "        combined_df = pd.concat([combined_df, df], ignore_index=True)\n",
        "\n",
        "    # Statistiques finales\n",
        "    total_commentaires = combined_df[combined_df['type'] == 'commentaire'].shape[0]\n",
        "    total_reponses = combined_df[combined_df['type'] == 'reponse'].shape[0]\n",
        "\n",
        "    # Sauvegarder le résultat combiné\n",
        "    timestamp = datetime.now().strftime('%Y%m%d_%H%M%S')\n",
        "    excel_filename = f\"lefaso_comments_combined_{timestamp}.xlsx\"\n",
        "    json_filename = f\"lefaso_comments_combined_{timestamp}.json\"\n",
        "\n",
        "    # Sauvegarde Excel\n",
        "    try:\n",
        "        with pd.ExcelWriter(excel_filename, engine='openpyxl') as writer:\n",
        "            combined_df.to_excel(writer, sheet_name='Tous_Commentaires', index=False)\n",
        "\n",
        "            # Ajouter un onglet avec les statistiques par article\n",
        "            stats_by_article = combined_df.groupby('id_article').agg({\n",
        "                'titre_article': 'first',\n",
        "                'type': 'count',\n",
        "                'auteur': 'nunique'\n",
        "            }).rename(columns={'type': 'total_interventions', 'auteur': 'auteurs_uniques'})\n",
        "            stats_by_article.to_excel(writer, sheet_name='Stats_Articles')\n",
        "\n",
        "        print(f\"Fichier Excel sauvegardé: {excel_filename}\")\n",
        "    except Exception as e:\n",
        "        print(f\"Erreur sauvegarde Excel: {e}\")\n",
        "\n",
        "    # Sauvegarde JSON\n",
        "    try:\n",
        "        combined_df.to_json(json_filename, orient='records', force_ascii=False, indent=2)\n",
        "        print(f\"Fichier JSON sauvegardé: {json_filename}\")\n",
        "    except Exception as e:\n",
        "        print(f\"Erreur sauvegarde JSON: {e}\")\n",
        "\n",
        "    # Résumé final\n",
        "    print(f\"\\nSCRAPING MULTIPLE TERMINÉ!\")\n",
        "    print(\"=\" * 40)\n",
        "    print(f\"Articles traités: {len(all_data)}\")\n",
        "    print(f\"Commentaires principaux: {total_commentaires}\")\n",
        "    print(f\"Réponses: {total_reponses}\")\n",
        "    print(f\"Total interventions: {len(combined_df)}\")\n",
        "    print(f\"Auteurs uniques: {combined_df['auteur'].nunique()}\")\n",
        "    print(f\"Période couverte: {combined_df['date_publication_article'].nunique()} dates différentes\")\n",
        "\n",
        "    return combined_df"
      ]
    },
    {
      "cell_type": "code",
      "execution_count": 59,
      "id": "1d2bc65b",
      "metadata": {
        "id": "1d2bc65b"
      },
      "outputs": [],
      "source": [
        "# Option pour exécuter le scraping multiple\n",
        "def lancer_scraping_multiple(urls):\n",
        "    \"\"\"Fonction pour lancer le scraping multiple\"\"\"\n",
        "    print(\"Lancement du scraping multiple...\")\n",
        "    df_resultat = scraper_multiple_urls(urls)\n",
        "\n",
        "    if not df_resultat.empty:\n",
        "        print(f\"\\nAPERÇU DES DONNÉES COMBINÉES:\")\n",
        "        print(f\"Dimensions: {df_resultat.shape[0]} lignes × {df_resultat.shape[1]} colonnes\")\n",
        "        print(f\"\\nRÉPARTITION PAR ARTICLE:\")\n",
        "        repartition = df_resultat['id_article'].value_counts()\n",
        "        for article_id, count in repartition.items():\n",
        "            titre = df_resultat[df_resultat['id_article'] == article_id]['titre_article'].iloc[0]\n",
        "            print(f\"• {article_id}: {count} interventions - {titre[:50]}...\")\n",
        "\n",
        "    return df_resultat\n"
      ]
    },
    {
      "cell_type": "markdown",
      "id": "73108a5e",
      "metadata": {
        "id": "73108a5e"
      },
      "source": [
        "#### <font color='blue'>14 : Fonctions utilitaires supplémentaires</font>"
      ]
    },
    {
      "cell_type": "code",
      "execution_count": 60,
      "id": "5426bd2b",
      "metadata": {
        "colab": {
          "base_uri": "https://localhost:8080/"
        },
        "id": "5426bd2b",
        "outputId": "070de182-dd11-4588-a037-9db8e89d669e"
      },
      "outputs": [
        {
          "name": "stdout",
          "output_type": "stream",
          "text": [
            "Fonctions utilitaires ajoutées\n"
          ]
        }
      ],
      "source": [
        "def analyser_donnees_combinees(df):\n",
        "    \"\"\"Analyse des données combinées pour des insights\"\"\"\n",
        "    if df is None or df.empty:\n",
        "        print(\"Aucune donnée à analyser\")\n",
        "        return\n",
        "\n",
        "    print(\"ANALYSE DES DONNÉES COMBINÉES\")\n",
        "    print(\"=\" * 50)\n",
        "\n",
        "    # Statistiques de base\n",
        "    print(f\"Données combinées: {len(df)} interventions\")\n",
        "    print(f\"Articles: {df['id_article'].nunique()}\")\n",
        "    print(f\"Auteurs uniques: {df['auteur'].nunique()}\")\n",
        "    print(f\"Commentaires: {df[df['type'] == 'commentaire'].shape[0]}\")\n",
        "    print(f\"Réponses: {df[df['type'] == 'reponse'].shape[0]}\")\n",
        "\n",
        "    # Top auteurs\n",
        "    print(f\"\\nTOP 10 DES AUTEURS LES PLUS ACTIFS:\")\n",
        "    top_auteurs = df['auteur'].value_counts().head(10)\n",
        "    for auteur, count in top_auteurs.items():\n",
        "        print(f\"  {auteur}: {count} interventions\")\n",
        "\n",
        "    # Longueur moyenne des commentaires\n",
        "    longueur_moyenne = df['longueur_contenu'].mean()\n",
        "    mots_moyens = df['mots_contenu'].mean()\n",
        "    print(f\"\\nLONGUEUR MOYENNE:\")\n",
        "    print(f\"  Caractères: {longueur_moyenne:.1f}\")\n",
        "    print(f\"  Mots: {mots_moyens:.1f}\")\n",
        "\n",
        "    # Articles avec le plus d'engagement\n",
        "    print(f\"\\nARTICLES LES PLUS COMMENTÉS:\")\n",
        "    articles_populaires = df['id_article'].value_counts().head(5)\n",
        "    for article_id, count in articles_populaires.items():\n",
        "        titre = df[df['id_article'] == article_id]['titre_article'].iloc[0]\n",
        "        print(f\"  {article_id}: {count} interventions - {titre[:60]}...\")\n",
        "\n",
        "print(\"Fonctions utilitaires ajoutées\")"
      ]
    },
    {
      "cell_type": "code",
      "execution_count": 61,
      "id": "2ae2af05",
      "metadata": {
        "colab": {
          "base_uri": "https://localhost:8080/"
        },
        "id": "2ae2af05",
        "outputId": "9507cf22-2751-41e3-cbce-7d4ee017d2db"
      },
      "outputs": [
        {
          "name": "stdout",
          "output_type": "stream",
          "text": [
            "Fonctions de nétoyage ajouté\n"
          ]
        }
      ],
      "source": [
        "def clean_comment(text: str) -> str:\n",
        "    \"\"\"\n",
        "    Nettoie et normalise un commentaire :\n",
        "    - Conversion des emojis en texte lisible (:thumbs_up:)\n",
        "    - Suppression des URLs, mentions et hashtags\n",
        "    - Suppression des caractères spéciaux et chiffres inutiles\n",
        "    - Réduction des espaces multiples\n",
        "    - Lemmatisation (SpaCy) avec suppression des stopwords\n",
        "    \"\"\"\n",
        "    if not isinstance(text, str) or not text.strip():\n",
        "        return \"\"\n",
        "\n",
        "    # 1. Convertir les emojis en texte\n",
        "    text = emoji.demojize(text, delimiters=(\" \", \" \"))\n",
        "\n",
        "    # 2. Supprimer les URLs\n",
        "    text = re.sub(r\"http\\S+|www\\S+\", \" \", text)\n",
        "\n",
        "    # 3. Supprimer les mentions et hashtags\n",
        "    text = re.sub(r\"[@#]\\w+\", \" \", text)\n",
        "\n",
        "    # 4. Supprimer les caractères spéciaux (on garde les lettres et accents)\n",
        "    text = re.sub(r\"[^a-zA-ZÀ-ÿ\\s]\", \" \", text)\n",
        "\n",
        "    # 5. Réduire les espaces multiples\n",
        "    text = re.sub(r\"\\s+\", \" \", text).strip()\n",
        "\n",
        "    # 6. Lemmatisation avec suppression des stopwords\n",
        "    doc = nlp(text.lower())\n",
        "    text_lem = \" \".join(\n",
        "        [token.lemma_ for token in doc if not token.is_punct and not token.is_space and not token.is_stop]\n",
        "    )\n",
        "\n",
        "    return text_lem\n",
        "\n",
        "print(\"Fonctions de nétoyage ajouté\")"
      ]
    },
    {
      "cell_type": "code",
      "execution_count": 62,
      "id": "5ad6ebd1",
      "metadata": {
        "id": "5ad6ebd1"
      },
      "outputs": [],
      "source": [
        "def nettoyer_dataframe(df, colonne_texte=\"contenu\"):\n",
        "    \"\"\"\n",
        "    Applique le nettoyage à tous les commentaires du DataFrame\n",
        "    et crée une nouvelle colonne 'contenu_propre'\n",
        "    \"\"\"\n",
        "    if df is None or df.empty:\n",
        "        print(\"Aucune donnée à nettoyer\")\n",
        "        return df\n",
        "\n",
        "    print(\"NETTOYAGE DES COMMENTAIRES EN COURS...\")\n",
        "    df['contenu_propre'] = df[colonne_texte].apply(clean_comment)\n",
        "\n",
        "    # Calculer la longueur et le nombre de mots après nettoyage\n",
        "    df['longueur_propre'] = df['contenu_propre'].apply(len)\n",
        "    df['mots_propre'] = df['contenu_propre'].apply(lambda x: len(x.split()))\n",
        "\n",
        "    print(\"Nettoyage terminé\")\n",
        "    return df\n"
      ]
    },
    {
      "cell_type": "markdown",
      "id": "78cd1561",
      "metadata": {
        "id": "78cd1561"
      },
      "source": [
        "#### <font color='blue'>14 : Fonctions d'analyse des sentiments</font>"
      ]
    },
    {
      "cell_type": "code",
      "execution_count": 63,
      "id": "172e8e32",
      "metadata": {
        "id": "172e8e32"
      },
      "outputs": [],
      "source": [
        "class AnalyticsNotebook:\n",
        "    \"\"\"Classe pour analyser les commentaires dans un notebook Jupyter / Colab avec TensorFlow\"\"\"\n",
        "\n",
        "    def __init__(self, df):\n",
        "        \"\"\"\n",
        "        df : DataFrame contenant les commentaires\n",
        "        Colonnes attendues : ['id_article', 'titre_article', 'contenu_propre', 'auteur', 'date_extraction']\n",
        "        \"\"\"\n",
        "        self.df = df\n",
        "        self.sentiment_analyzer = None\n",
        "        self.initialize_sentiment_analyzer()\n",
        "\n",
        "    def initialize_sentiment_analyzer(self):\n",
        "        \"\"\"Initialise le modèle TF Allociné\"\"\"\n",
        "        try:\n",
        "            model_name = \"tblard/camembert-base-sentiment\"\n",
        "            self.sentiment_analyzer = pipeline(\n",
        "                \"sentiment-analysis\",\n",
        "                model=model_name,\n",
        "                tokenizer=model_name,\n",
        "                framework=\"pt\"\n",
        "            )\n",
        "            print(\"Modèle BERT initialisé\")\n",
        "        except Exception as e:\n",
        "            print(f\"Erreur init BERT: {e}, fallback...\")\n",
        "            try:\n",
        "                self.sentiment_analyzer = pipeline(\"sentiment-analysis\")\n",
        "                print(\"Modèle fallback initialisé (distilbert)\")\n",
        "            except Exception as e2:\n",
        "                print(f\"Erreur fallback: {e2}\")\n",
        "                self.sentiment_analyzer = None\n",
        "\n",
        "    def get_sentiment_bert(self, text: str):\n",
        "        \"\"\"Analyse le sentiment d'un texte\"\"\"\n",
        "        if not self.sentiment_analyzer or not text:\n",
        "            return {'label': 'NEUTRE', 'score': 0.5}\n",
        "\n",
        "        if len(text) > 512:\n",
        "            text = text[:512]\n",
        "\n",
        "        result = self.sentiment_analyzer(text)[0]\n",
        "\n",
        "        # Harmonisation des labels\n",
        "        label_map = {\n",
        "            'positive': 'POSITIF',\n",
        "            'negative': 'NEGATIF',\n",
        "            'neutral': 'NEUTRE',\n",
        "            'POS': 'POSITIF',\n",
        "            'NEG': 'NEGATIF',\n",
        "            'NEU': 'NEUTRE'\n",
        "        }\n",
        "        label = label_map.get(result['label'], result['label'].upper())\n",
        "        return {'label': label, 'score': float(result['score'])}\n",
        "\n",
        "    def get_sentiment_score(self, label, score):\n",
        "        \"\"\"Convertit label → score numérique\"\"\"\n",
        "        mapping = {'POSITIF': score, 'NEGATIF': -score, 'NEUTRE': 0.0}\n",
        "        return mapping.get(label.upper(), 0.0)\n",
        "\n",
        "    def analyze_sentiments(self):\n",
        "        \"\"\"Ajoute les sentiments et scores au DataFrame\"\"\"\n",
        "        sentiments = []\n",
        "        scores = []\n",
        "        for text in self.df['contenu_propre']:\n",
        "            sentiment = self.get_sentiment_bert(text)\n",
        "            sentiments.append(sentiment['label'])\n",
        "            scores.append(self.get_sentiment_score(sentiment['label'], sentiment['score']))\n",
        "        self.df['sentiment'] = sentiments\n",
        "        self.df['score'] = scores\n",
        "        return self.df\n",
        "\n",
        "    def get_summary(self):\n",
        "        \"\"\"Retourne un résumé global des sentiments\"\"\"\n",
        "        if 'sentiment' not in self.df:\n",
        "            self.analyze_sentiments()\n",
        "\n",
        "        total = len(self.df)\n",
        "        if total == 0:\n",
        "            return {'positif': 0, 'negatif': 0, 'neutre': 100, 'moyen': 0, 'total': 0}\n",
        "\n",
        "        positif = (self.df['sentiment'] == 'POSITIVE').mean() * 100\n",
        "        negatif = (self.df['sentiment'] == 'NEGATIVE').mean() * 100\n",
        "        neutre = (self.df['sentiment'] == 'NEUTRAL').mean() * 100\n",
        "        score_moyen = ((self.df['score'].mean() + 1) / 2) * 100\n",
        "\n",
        "        return {\n",
        "            'positif': round(positif, 1),\n",
        "            'negatif': round(negatif, 1),\n",
        "            'neutre': round(neutre, 1),\n",
        "            'moyen': round(score_moyen, 1),\n",
        "            'total': total\n",
        "        }\n",
        "\n",
        "    def get_word_frequency(self, limit=50):\n",
        "      # Activation de l'affichage inline (utile dans Jupyter/Colab)\n",
        "    #   try:\n",
        "    #       get_ipython().run_line_magic(\"matplotlib\", \"inline\")\n",
        "    #   except:\n",
        "    #       pass\n",
        "\n",
        "      nltk.download(\"stopwords\", quiet=True)\n",
        "      stop_words = stopwords.words(\"french\")\n",
        "\n",
        "      # Copie du dataframe\n",
        "      df = self.df.copy()\n",
        "      df[\"contenu_propre\"] = df[\"contenu_propre\"].astype(str)\n",
        "\n",
        "      # Vectorisation\n",
        "      vectorizer = CountVectorizer(\n",
        "          ngram_range=(1, 2),\n",
        "          max_features=limit,\n",
        "          stop_words=stop_words,\n",
        "          strip_accents=\"unicode\"\n",
        "      )\n",
        "      X = vectorizer.fit_transform(df[\"contenu_propre\"])\n",
        "\n",
        "      # Calcul des fréquences\n",
        "      freqs = X.toarray().sum(axis=0)\n",
        "      words = vectorizer.get_feature_names_out()\n",
        "\n",
        "      # DataFrame des mots fréquents\n",
        "      freq_df = pd.DataFrame({\"mot\": words, \"frequence\": freqs}).sort_values(\n",
        "          by=\"frequence\", ascending=False\n",
        "      )\n",
        "\n",
        "      print(\"Top mots-clés :\")\n",
        "      print(freq_df.head(10))\n",
        "\n",
        "      # Génération du nuage de mots\n",
        "      wordcloud = WordCloud(\n",
        "          width=800, height=400, background_color=\"white\"\n",
        "      ).generate_from_frequencies(dict(zip(words, freqs)))\n",
        "\n",
        "      plt.figure(figsize=(10, 5))\n",
        "      plt.imshow(wordcloud, interpolation=\"bilinear\")\n",
        "      plt.axis(\"off\")\n",
        "      plt.show(block=True)  # force l'affichage même hors notebook\n",
        "      plt.close()           # évite le \"double plot\" dans Colab\n",
        "\n",
        "    #   return freq_df\n",
        "\n",
        "\n",
        "\n",
        "    def get_activity_timeline(self, days=30):\n",
        "        \"\"\"Chronologie des commentaires sur les derniers `days` jours\"\"\"\n",
        "        df = self.df.copy()\n",
        "        df['date'] = pd.to_datetime(df['date_extraction']).dt.date\n",
        "        timeline = df['date'].value_counts().sort_index()\n",
        "        return timeline.tail(days)\n",
        "\n",
        "    def get_top_authors(self, limit=10):\n",
        "        \"\"\"Auteurs les plus actifs\"\"\"\n",
        "        return self.df['auteur'].value_counts().head(limit)"
      ]
    },
    {
      "cell_type": "markdown",
      "id": "f764bc94",
      "metadata": {
        "id": "f764bc94"
      },
      "source": [
        "## <font color='orange'>16 : Execution du projet</font>"
      ]
    },
    {
      "cell_type": "code",
      "execution_count": 66,
      "id": "639714b3",
      "metadata": {
        "id": "639714b3"
      },
      "outputs": [],
      "source": [
        "\n",
        "# Liste d'URLs à scraper\n",
        "urls = [\n",
        "    \"https://lefaso.net/spip.php?article137593\",\n",
        "    \"https://lefaso.net/spip.php?article124600\",\n",
        "    \"https://lefaso.net/spip.php?article111192\",\n",
        "    \"https://lefaso.net/spip.php?article119046\",\n",
        "    \"https://lefaso.net/spip.php?article122867\",\n",
        "    \"https://lefaso.net/spip.php?article133172\",\n",
        "    \"https://lefaso.net/spip.php?article137090\",\n",
        "    \"https://lefaso.net/spip.php?article133365\",\n",
        "    \"https://lefaso.net/spip.php?article137611\",\n",
        "    \"https://lefaso.net/spip.php?article116538\",\n",
        "    \"https://lefaso.net/spip.php?article134992\",\n",
        "    \"https://lefaso.net/spip.php?article140484\"\n",
        "]"
      ]
    },
    {
      "cell_type": "code",
      "execution_count": 67,
      "id": "099f152e",
      "metadata": {
        "colab": {
          "base_uri": "https://localhost:8080/"
        },
        "id": "099f152e",
        "outputId": "ccdcf52a-9591-418e-8f83-6ef92dea234a"
      },
      "outputs": [
        {
          "name": "stdout",
          "output_type": "stream",
          "text": [
            "=== ========================================================================================== ===\n",
            "=== SCRAPING ===\n",
            "Lancement du scraping multiple...\n",
            "DÉBUT DU SCRAPING MULTIPLE\n",
            "==================================================\n",
            "\n",
            "Traitement de l'URL 1/12: https://lefaso.net/spip.php?article137593\n",
            "\n",
            "Début du scraping pour: https://lefaso.net/spip.php?article137593\n",
            "Récupération de la page: https://lefaso.net/spip.php?article137593\n",
            "Section commentaires trouvée avec find(id='navforum')\n",
            "5 commentaire(s) principal(aux) trouvé(s)\n",
            "Scraping terminé: 5 commentaires, 1 réponses\n",
            "Article 1 scrapé avec succès\n",
            "\n",
            "Traitement de l'URL 2/12: https://lefaso.net/spip.php?article124600\n",
            "\n",
            "Début du scraping pour: https://lefaso.net/spip.php?article124600\n",
            "Récupération de la page: https://lefaso.net/spip.php?article124600\n",
            "Section commentaires trouvée avec find(id='navforum')\n",
            "20 commentaire(s) principal(aux) trouvé(s)\n",
            "Scraping terminé: 20 commentaires, 38 réponses\n",
            "Article 2 scrapé avec succès\n",
            "\n",
            "Traitement de l'URL 3/12: https://lefaso.net/spip.php?article111192\n",
            "\n",
            "Début du scraping pour: https://lefaso.net/spip.php?article111192\n",
            "Récupération de la page: https://lefaso.net/spip.php?article111192\n",
            "Section commentaires trouvée avec find(id='navforum')\n",
            "11 commentaire(s) principal(aux) trouvé(s)\n",
            "Scraping terminé: 11 commentaires, 0 réponses\n",
            "Article 3 scrapé avec succès\n",
            "\n",
            "Traitement de l'URL 4/12: https://lefaso.net/spip.php?article119046\n",
            "\n",
            "Début du scraping pour: https://lefaso.net/spip.php?article119046\n",
            "Récupération de la page: https://lefaso.net/spip.php?article119046\n",
            "Section commentaires trouvée avec find(id='navforum')\n",
            "6 commentaire(s) principal(aux) trouvé(s)\n",
            "Scraping terminé: 6 commentaires, 1 réponses\n",
            "Article 4 scrapé avec succès\n",
            "\n",
            "Traitement de l'URL 5/12: https://lefaso.net/spip.php?article122867\n",
            "\n",
            "Début du scraping pour: https://lefaso.net/spip.php?article122867\n",
            "Récupération de la page: https://lefaso.net/spip.php?article122867\n",
            "Section commentaires trouvée avec find(id='navforum')\n",
            "1 commentaire(s) principal(aux) trouvé(s)\n",
            "Scraping terminé: 1 commentaires, 0 réponses\n",
            "Article 5 scrapé avec succès\n",
            "\n",
            "Traitement de l'URL 6/12: https://lefaso.net/spip.php?article133172\n",
            "\n",
            "Début du scraping pour: https://lefaso.net/spip.php?article133172\n",
            "Récupération de la page: https://lefaso.net/spip.php?article133172\n",
            "Section commentaires trouvée avec find(id='navforum')\n",
            "4 commentaire(s) principal(aux) trouvé(s)\n",
            "Scraping terminé: 4 commentaires, 0 réponses\n",
            "Article 6 scrapé avec succès\n",
            "\n",
            "Traitement de l'URL 7/12: https://lefaso.net/spip.php?article137090\n",
            "\n",
            "Début du scraping pour: https://lefaso.net/spip.php?article137090\n",
            "Récupération de la page: https://lefaso.net/spip.php?article137090\n",
            "Section commentaires trouvée avec find(id='navforum')\n",
            "5 commentaire(s) principal(aux) trouvé(s)\n",
            "Scraping terminé: 5 commentaires, 8 réponses\n",
            "Article 7 scrapé avec succès\n",
            "\n",
            "Traitement de l'URL 8/12: https://lefaso.net/spip.php?article133365\n",
            "\n",
            "Début du scraping pour: https://lefaso.net/spip.php?article133365\n",
            "Récupération de la page: https://lefaso.net/spip.php?article133365\n",
            "Section commentaires trouvée avec find(id='navforum')\n",
            "1 commentaire(s) principal(aux) trouvé(s)\n",
            "Scraping terminé: 1 commentaires, 0 réponses\n",
            "Article 8 scrapé avec succès\n",
            "\n",
            "Traitement de l'URL 9/12: https://lefaso.net/spip.php?article137611\n",
            "\n",
            "Début du scraping pour: https://lefaso.net/spip.php?article137611\n",
            "Récupération de la page: https://lefaso.net/spip.php?article137611\n",
            "Section commentaires trouvée avec find(id='navforum')\n",
            "2 commentaire(s) principal(aux) trouvé(s)\n",
            "Scraping terminé: 2 commentaires, 1 réponses\n",
            "Article 9 scrapé avec succès\n",
            "\n",
            "Traitement de l'URL 10/12: https://lefaso.net/spip.php?article116538\n",
            "\n",
            "Début du scraping pour: https://lefaso.net/spip.php?article116538\n",
            "Récupération de la page: https://lefaso.net/spip.php?article116538\n",
            "Section commentaires trouvée avec find(id='navforum')\n",
            "6 commentaire(s) principal(aux) trouvé(s)\n",
            "Scraping terminé: 6 commentaires, 1 réponses\n",
            "Article 10 scrapé avec succès\n",
            "\n",
            "Traitement de l'URL 11/12: https://lefaso.net/spip.php?article134992\n",
            "\n",
            "Début du scraping pour: https://lefaso.net/spip.php?article134992\n",
            "Récupération de la page: https://lefaso.net/spip.php?article134992\n",
            "Section commentaires trouvée avec find(id='navforum')\n",
            "35 commentaire(s) principal(aux) trouvé(s)\n",
            "Scraping terminé: 35 commentaires, 7 réponses\n",
            "Article 11 scrapé avec succès\n",
            "\n",
            "Traitement de l'URL 12/12: https://lefaso.net/spip.php?article140484\n",
            "\n",
            "Début du scraping pour: https://lefaso.net/spip.php?article140484\n",
            "Récupération de la page: https://lefaso.net/spip.php?article140484\n",
            "Section commentaires trouvée avec find(id='navforum')\n",
            "25 commentaire(s) principal(aux) trouvé(s)\n",
            "Scraping terminé: 25 commentaires, 31 réponses\n",
            "Article 12 scrapé avec succès\n",
            "Structuration des données de l'article 1/12...\n",
            "Structuration des données de l'article 2/12...\n",
            "Structuration des données de l'article 3/12...\n",
            "Structuration des données de l'article 4/12...\n",
            "Structuration des données de l'article 5/12...\n",
            "Structuration des données de l'article 6/12...\n",
            "Structuration des données de l'article 7/12...\n",
            "Structuration des données de l'article 8/12...\n",
            "Structuration des données de l'article 9/12...\n",
            "Structuration des données de l'article 10/12...\n",
            "Structuration des données de l'article 11/12...\n",
            "Structuration des données de l'article 12/12...\n",
            "Fichier Excel sauvegardé: lefaso_comments_combined_20250928_161906.xlsx\n",
            "Fichier JSON sauvegardé: lefaso_comments_combined_20250928_161906.json\n",
            "\n",
            "SCRAPING MULTIPLE TERMINÉ!\n",
            "========================================\n",
            "Articles traités: 12\n",
            "Commentaires principaux: 121\n",
            "Réponses: 88\n",
            "Total interventions: 209\n",
            "Auteurs uniques: 117\n",
            "Période couverte: 12 dates différentes\n",
            "\n",
            "APERÇU DES DONNÉES COMBINÉES:\n",
            "Dimensions: 209 lignes × 15 colonnes\n",
            "\n",
            "RÉPARTITION PAR ARTICLE:\n",
            "• https://lefaso.net/spip.php?article124600: 58 interventions - Burkina Faso : Une tentative de Coup d’Etat dejoué...\n",
            "• https://lefaso.net/spip.php?article140484: 56 interventions - Burkina/Adoption du nouveau code des personnes et ...\n",
            "• https://lefaso.net/spip.php?article134992: 42 interventions - Burkina : Amnistier les faits du coup d’État de 20...\n",
            "• https://lefaso.net/spip.php?article137090: 13 interventions - Burkina : Le président du Faso accorde la grâce am...\n",
            "• https://lefaso.net/spip.php?article111192: 11 interventions - Future transition politique au Burkina : Un regrou...\n",
            "• https://lefaso.net/spip.php?article119046: 7 interventions - Réformes politiques au Burkina : « En démocratie, ...\n",
            "• https://lefaso.net/spip.php?article116538: 7 interventions - Coup d’Etat du 30 septembre 2022 au Burkina : Le v...\n",
            "• https://lefaso.net/spip.php?article137593: 6 interventions - Tentative de coup d’État : « Nous appelons chaque ...\n",
            "• https://lefaso.net/spip.php?article133172: 4 interventions - Année 1974 : Un coup d’État sans tambours ni tromp...\n",
            "• https://lefaso.net/spip.php?article137611: 3 interventions - Tentative de coup d’Etat : « Si vous vous êtes tro...\n",
            "• https://lefaso.net/spip.php?article133365: 1 interventions - Enième tentative de coup d’état au Burkina : Pour ...\n",
            "• https://lefaso.net/spip.php?article122867: 1 interventions - Les causes structurelles des coups d’États, selon ...\n",
            "ANALYSE DES DONNÉES COMBINÉES\n",
            "==================================================\n",
            "Données combinées: 209 interventions\n",
            "Articles: 12\n",
            "Auteurs uniques: 117\n",
            "Commentaires: 121\n",
            "Réponses: 88\n",
            "\n",
            "TOP 10 DES AUTEURS LES PLUS ACTIFS:\n",
            "  SOME: 16 interventions\n",
            "  jan jan: 12 interventions\n",
            "  kwiliga: 10 interventions\n",
            "  Renault HÉLIE: 7 interventions\n",
            "  Passakziri: 6 interventions\n",
            "  Bob: 6 interventions\n",
            "  Gwandba: 4 interventions\n",
            "  Anonyme: 4 interventions\n",
            "  Dieudonne Tamini: 4 interventions\n",
            "  Anaarchiqqukement: 4 interventions\n",
            "\n",
            "LONGUEUR MOYENNE:\n",
            "  Caractères: 633.9\n",
            "  Mots: 106.3\n",
            "\n",
            "ARTICLES LES PLUS COMMENTÉS:\n",
            "  https://lefaso.net/spip.php?article124600: 58 interventions - Burkina Faso : Une tentative de Coup d’Etat dejouée le 26 se...\n",
            "  https://lefaso.net/spip.php?article140484: 56 interventions - Burkina/Adoption du nouveau code des personnes et de la fami...\n",
            "  https://lefaso.net/spip.php?article134992: 42 interventions - Burkina : Amnistier les faits du coup d’État de 2015 n’est p...\n",
            "  https://lefaso.net/spip.php?article137090: 13 interventions - Burkina : Le président du Faso accorde la grâce amnistiante ...\n",
            "  https://lefaso.net/spip.php?article111192: 11 interventions - Future transition politique au Burkina : Un regroupement d’O...\n"
          ]
        }
      ],
      "source": [
        "# 1. Scraping\n",
        "print(\"=== ========================================================================================== ===\")\n",
        "print(\"=== SCRAPING ===\")\n",
        "df_final = lancer_scraping_multiple(urls)\n",
        "analyser_donnees_combinees(df_final)"
      ]
    },
    {
      "cell_type": "code",
      "execution_count": 68,
      "id": "d6dfc0ff",
      "metadata": {
        "colab": {
          "base_uri": "https://localhost:8080/"
        },
        "id": "d6dfc0ff",
        "outputId": "0fde2c01-c697-4177-90f5-1cedb5f556ba"
      },
      "outputs": [
        {
          "name": "stdout",
          "output_type": "stream",
          "text": [
            "=== ========================================================================================== ===\n",
            "=== NETOYAGE ===\n",
            "NETTOYAGE DES COMMENTAIRES EN COURS...\n",
            "Nettoyage terminé\n",
            "DataFrame nettoyé exporté avec succès dans : lefaso_comments_clean.csv\n",
            "                                             contenu  \\\n",
            "0  C’est dommage que l’on soit encore dans un con...   \n",
            "1  Salut Indjaba, la reponse est simple, ce sont ...   \n",
            "2  Mon soutien indefectible et sans ambage au pre...   \n",
            "3  Félicitations à la veille citoyenne (cnavc), e...   \n",
            "4  On déplore qu’il y ait des tentatives de coups...   \n",
            "5  Quand on a pas un minimum pour tirer une concl...   \n",
            "6  On ne veut plus de coup d’État dans ce pays. L...   \n",
            "7  Le Burkina Fao n’en serait pas là si Damiba et...   \n",
            "8  Bonjour indjaba, bonjour Amors, Pour aller dan...   \n",
            "9  kwiliga \"aurait pu être rédigée fin janvier 20...   \n",
            "\n",
            "                                      contenu_propre  \n",
            "0  c dommage l contexte pensent coup d état c fai...  \n",
            "1  salut indjaber reponse simple imperialiste vou...  \n",
            "2  soutien indefectibl ambage president excellenc...  \n",
            "3  félicitatier veille citoyen cnavc omettre wayi...  \n",
            "4  déplorer qu tentative coup d état menacer pays...  \n",
            "5  minimum tirer conclusion objectif n grave voul...  \n",
            "6  vouloir coup d état pays dirigeant toutefois a...  \n",
            "7  burkina fao n damiba traore suivre recommandat...  \n",
            "8  bonjour indjaba bonjour amors aller sens l imp...  \n",
            "9  kwiliga rédiger fin janvier rmc kaboré préside...  \n"
          ]
        }
      ],
      "source": [
        "# 2. Nettoyage\n",
        "print(\"=== ========================================================================================== ===\")\n",
        "print(\"=== NETOYAGE ===\")\n",
        "df_clean = nettoyer_dataframe(df_final, colonne_texte=\"contenu\")\n",
        "df_clean.to_csv(\"lefaso_comments_clean.csv\", index=False, encoding=\"utf-8-sig\")\n",
        "print(f\"DataFrame nettoyé exporté avec succès dans : lefaso_comments_clean.csv\")\n",
        "print(df_clean[['contenu', 'contenu_propre']].head(10))"
      ]
    },
    {
      "cell_type": "code",
      "execution_count": 69,
      "id": "e37dda2f",
      "metadata": {
        "colab": {
          "base_uri": "https://localhost:8080/"
        },
        "id": "e37dda2f",
        "outputId": "0619cc92-549a-4acd-eed3-c7b253e219af"
      },
      "outputs": [
        {
          "name": "stdout",
          "output_type": "stream",
          "text": [
            "=== ========================================================================================== ===\n",
            "=== ANALYSE ===\n"
          ]
        },
        {
          "name": "stderr",
          "output_type": "stream",
          "text": [
            "No model was supplied, defaulted to distilbert/distilbert-base-uncased-finetuned-sst-2-english and revision 714eb0f (https://huggingface.co/distilbert/distilbert-base-uncased-finetuned-sst-2-english).\n",
            "Using a pipeline without specifying a model name and revision in production is not recommended.\n"
          ]
        },
        {
          "name": "stdout",
          "output_type": "stream",
          "text": [
            "Erreur init BERT: tblard/camembert-base-sentiment is not a local folder and is not a valid model identifier listed on 'https://huggingface.co/models'\n",
            "If this is a private repository, make sure to pass a token having permission to this repo either by logging in with `hf auth login` or by passing `token=<your_token>`, fallback...\n"
          ]
        },
        {
          "name": "stderr",
          "output_type": "stream",
          "text": [
            "Device set to use cpu\n"
          ]
        },
        {
          "name": "stdout",
          "output_type": "stream",
          "text": [
            "Modèle fallback initialisé (distilbert)\n"
          ]
        }
      ],
      "source": [
        "# 3. Lancer l’analyse\n",
        "print(\"=== ========================================================================================== ===\")\n",
        "print(\"=== ANALYSE ===\")\n",
        "analytics = AnalyticsNotebook(df_clean)\n",
        "# Ajout des sentiments dans df\n",
        "df_analysed = analytics.analyze_sentiments()\n",
        "df_analysed.to_csv(\"Df analysé.csv\", index=False, encoding=\"utf-8-sig\")"
      ]
    },
    {
      "cell_type": "code",
      "execution_count": 70,
      "id": "fc5181d0",
      "metadata": {
        "colab": {
          "base_uri": "https://localhost:8080/"
        },
        "id": "fc5181d0",
        "outputId": "a8073654-60b1-4bdd-d61d-3683a2d572ab"
      },
      "outputs": [
        {
          "name": "stdout",
          "output_type": "stream",
          "text": [
            "=== ========================================================================================== ===\n",
            "=== RÉSUMÉ GLOBAL ===\n",
            "{'positif': np.float64(13.4), 'negatif': np.float64(86.6), 'neutre': np.float64(0.0), 'moyen': np.float64(50.0), 'total': 209}\n"
          ]
        }
      ],
      "source": [
        "# 4. Résumé global\n",
        "resume = analytics.get_summary()\n",
        "print(\"=== ========================================================================================== ===\")\n",
        "print(\"=== RÉSUMÉ GLOBAL ===\")\n",
        "print(resume)"
      ]
    },
    {
      "cell_type": "code",
      "execution_count": 71,
      "id": "c047f743",
      "metadata": {
        "colab": {
          "base_uri": "https://localhost:8080/"
        },
        "id": "c047f743",
        "outputId": "b64460ea-9993-4d33-ab5f-65b166a6db5c"
      },
      "outputs": [
        {
          "name": "stdout",
          "output_type": "stream",
          "text": [
            "\n",
            "=== MOTS FRÉQUENTS ===\n",
            "=== ========================================================================================== ===\n",
            "Top mots-clés :\n",
            "          mot  frequence\n",
            "34       pays        114\n",
            "13       etat         95\n",
            "14       etre         80\n",
            "3        bien         76\n",
            "35     peuple         70\n",
            "5     burkina         67\n",
            "16      faire         63\n",
            "9        coup         62\n",
            "6   burkinabe         59\n",
            "1     afrique         57\n"
          ]
        },
        {
          "data": {
            "image/png": "[encoded data removed]",
            "text/plain": [
              "<Figure size 1000x500 with 1 Axes>"
            ]
          },
          "metadata": {},
          "output_type": "display_data"
        },
        {
          "name": "stdout",
          "output_type": "stream",
          "text": [
            "None\n"
          ]
        }
      ],
      "source": [
        "# 5. Mots fréquents\n",
        "print(\"\\n=== MOTS FRÉQUENTS ===\")\n",
        "print(\"=== ========================================================================================== ===\")\n",
        "print(analytics.get_word_frequency())"
      ]
    },
    {
      "cell_type": "code",
      "execution_count": 72,
      "id": "321db936",
      "metadata": {
        "colab": {
          "base_uri": "https://localhost:8080/"
        },
        "id": "321db936",
        "outputId": "2d156619-0508-4d8f-8fe0-6b3559ed9e70"
      },
      "outputs": [
        {
          "name": "stdout",
          "output_type": "stream",
          "text": [
            "\n",
            "=== TOP AUTEURS ===\n",
            "=== ========================================================================================== ===\n",
            "auteur\n",
            "SOME                 16\n",
            "jan jan              12\n",
            "kwiliga              10\n",
            "Renault HÉLIE         7\n",
            "Passakziri            6\n",
            "Bob                   6\n",
            "Gwandba               4\n",
            "Anonyme               4\n",
            "Dieudonne Tamini      4\n",
            "Anaarchiqqukement     4\n",
            "Name: count, dtype: int64\n"
          ]
        }
      ],
      "source": [
        "# 7. Top auteurs\n",
        "print(\"\\n=== TOP AUTEURS ===\")\n",
        "print(\"=== ========================================================================================== ===\")\n",
        "print(analytics.get_top_authors(10))"
      ]
    },
    {
      "cell_type": "code",
      "execution_count": 73,
      "id": "11236ba9",
      "metadata": {
        "colab": {
          "base_uri": "https://localhost:8080/"
        },
        "id": "11236ba9",
        "outputId": "54c953bf-aa47-4067-e667-9d0cc8db2525"
      },
      "outputs": [
        {
          "name": "stdout",
          "output_type": "stream",
          "text": [
            "=== ========================================================================================== ===\n",
            "\n",
            "=== APERÇU DU DF AVEC SENTIMENTS ===\n",
            "                                  id_article  \\\n",
            "0  https://lefaso.net/spip.php?article137593   \n",
            "1  https://lefaso.net/spip.php?article137593   \n",
            "2  https://lefaso.net/spip.php?article137593   \n",
            "3  https://lefaso.net/spip.php?article137593   \n",
            "4  https://lefaso.net/spip.php?article137593   \n",
            "5  https://lefaso.net/spip.php?article137593   \n",
            "6  https://lefaso.net/spip.php?article124600   \n",
            "7  https://lefaso.net/spip.php?article124600   \n",
            "8  https://lefaso.net/spip.php?article124600   \n",
            "9  https://lefaso.net/spip.php?article124600   \n",
            "\n",
            "                                      contenu_propre sentiment  score  \n",
            "0  c dommage l contexte pensent coup d état c fai...  NEGATIVE    0.0  \n",
            "1  salut indjaber reponse simple imperialiste vou...  NEGATIVE    0.0  \n",
            "2  soutien indefectibl ambage president excellenc...  NEGATIVE    0.0  \n",
            "3  félicitatier veille citoyen cnavc omettre wayi...  NEGATIVE    0.0  \n",
            "4  déplorer qu tentative coup d état menacer pays...  NEGATIVE    0.0  \n",
            "5  minimum tirer conclusion objectif n grave voul...  NEGATIVE    0.0  \n",
            "6  vouloir coup d état pays dirigeant toutefois a...  NEGATIVE    0.0  \n",
            "7  burkina fao n damiba traore suivre recommandat...  NEGATIVE    0.0  \n",
            "8  bonjour indjaba bonjour amors aller sens l imp...  NEGATIVE    0.0  \n",
            "9  kwiliga rédiger fin janvier rmc kaboré préside...  NEGATIVE    0.0  \n"
          ]
        }
      ],
      "source": [
        "# 8. Aperçu DataFrame avec sentiments\n",
        "print(\"=== ========================================================================================== ===\")\n",
        "print(\"\\n=== APERÇU DU DF AVEC SENTIMENTS ===\")\n",
        "print(df_analysed[['id_article', 'contenu_propre', 'sentiment', 'score']].head(10))"
      ]
    }
  ],
  "metadata": {
    "colab": {
      "provenance": []
    },
    "kernelspec": {
      "display_name": "virtualEnvironment",
      "language": "python",
      "name": "python3"
    },
    "language_info": {
      "codemirror_mode": {
        "name": "ipython",
        "version": 3
      },
      "file_extension": ".py",
      "mimetype": "text/x-python",
      "name": "python",
      "nbconvert_exporter": "python",
      "pygments_lexer": "ipython3",
      "version": "3.13.3"
    }
  },
  "nbformat": 4,
  "nbformat_minor": 5
}
